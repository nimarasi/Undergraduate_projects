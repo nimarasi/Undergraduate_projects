{
 "cells": [
  {
   "cell_type": "markdown",
   "metadata": {},
   "source": [
    "# Functions \n",
    "\n",
    "In Python a function is defined using the `def` keyword\n",
    "\n",
    "*We have two types of functions :*\n",
    "  1. **Built-in Functions**\n",
    "      * There are functions that have already been created and we only use them.\n",
    "  1. **Made by a programmer**\n",
    "      * Functions created and used by the programmer himself / herself "
   ]
  },
  {
   "cell_type": "markdown",
   "metadata": {},
   "source": [
    "# Create a Function \n",
    "   * Cylindrical"
   ]
  },
  {
   "cell_type": "code",
   "execution_count": 9,
   "metadata": {},
   "outputs": [
    {
     "name": "stdout",
     "output_type": "stream",
     "text": [
      "please enter R : 2\n",
      "please enter H : 3\n",
      "Masahat ostovane :  37.68\n"
     ]
    }
   ],
   "source": [
    "def Cylindrical(R,H):\n",
    "    \"\"\"\n",
    "    This function takes two values, R and H \n",
    "    And calculates the volume of the cylinder\n",
    "    \n",
    "    Input variables to the function :\n",
    "    R = Radius\n",
    "    H = Height\n",
    "\n",
    "    \"\"\"\n",
    "    S = 3.14*R*R*H\n",
    "    return S\n",
    "\n",
    "    \n",
    "    \n",
    "R = int(input(\"please enter R : \"))\n",
    "H = int(input(\"please enter H : \"))\n",
    "print(\"Masahat ostovane : \" , Cylindrical(R,H))\n"
   ]
  },
  {
   "cell_type": "code",
   "execution_count": 6,
   "metadata": {},
   "outputs": [
    {
     "name": "stdout",
     "output_type": "stream",
     "text": [
      "Help on function Cylindrical in module __main__:\n",
      "\n",
      "Cylindrical(R, H)\n",
      "    This function takes two values, R and H \n",
      "    And calculates the volume of the cylinder\n",
      "    \n",
      "    Input variables to the function :\n",
      "    R = Radius\n",
      "    H = Height\n",
      "\n"
     ]
    }
   ],
   "source": [
    "help(Cylindrical)"
   ]
  },
  {
   "cell_type": "code",
   "execution_count": 7,
   "metadata": {},
   "outputs": [],
   "source": [
    "Cylindrical?"
   ]
  },
  {
   "cell_type": "markdown",
   "metadata": {},
   "source": [
    "# How to import module \n",
    "* We have two ways to improt module that you can see in below"
   ]
  },
  {
   "cell_type": "markdown",
   "metadata": {},
   "source": [
    "**First Type :**\n",
    "   In this case if you want to use a function from random module always you have to write like a method like this `random.randint()` \n",
    "   \n",
    "   general form : `random.method()`\n",
    "   \n",
    "   * randint Function : Makes a random integer from a range that we choose "
   ]
  },
  {
   "cell_type": "code",
   "execution_count": 19,
   "metadata": {},
   "outputs": [
    {
     "name": "stdout",
     "output_type": "stream",
     "text": [
      "10\n",
      "3\n",
      "2\n",
      "7\n",
      "1\n"
     ]
    }
   ],
   "source": [
    "import random\n",
    "\n",
    "for i in range(5):\n",
    "    print(random.randint(1,10))"
   ]
  },
  {
   "cell_type": "markdown",
   "metadata": {},
   "source": [
    "**Second type :**\n",
    "        In this case if you want to use a function from random module Avoid repeating writing in method mode you import module like this `from random import randint`\n",
    "        \n",
    "general form : `from randint import functions Name`\n",
    "\n",
    "Attention : if you want you can import Multiple functions simultaneously and write more than one function name to import"
   ]
  },
  {
   "cell_type": "code",
   "execution_count": null,
   "metadata": {},
   "outputs": [],
   "source": [
    "from random import randint\n",
    "\n",
    "for i in range(5):\n",
    "    print(randint(1,10))"
   ]
  },
  {
   "cell_type": "markdown",
   "metadata": {},
   "source": [
    "**Example for randint :** \n",
    "Throw a dice"
   ]
  },
  {
   "cell_type": "code",
   "execution_count": 1,
   "metadata": {},
   "outputs": [
    {
     "name": "stdout",
     "output_type": "stream",
     "text": [
      "Please press 5 to roll the dice if you want to end please enter 0 \n",
      "0\n"
     ]
    }
   ],
   "source": [
    "from random import randint\n",
    "while True:\n",
    "    a = input(\"Please press 5 to roll the dice if you want to end please enter 0 \\n\")\n",
    "    b,c = '5','0'\n",
    "    if a == b:\n",
    "        for i in range(1):\n",
    "            print(\"The number that came is \",randint(1,6))      \n",
    "    if a == c :\n",
    "        break\n",
    "        "
   ]
  },
  {
   "cell_type": "markdown",
   "metadata": {},
   "source": [
    "# Try Except \n",
    "   \n",
    "   * The `try` block lets you test a block of code for errors.\n",
    "   * The `except` block lets you handle the error.\n",
    "   * When an error occurs, or exception as we call it, Python will normally stop and generate an error message to fix this problem we use **try except**."
   ]
  },
  {
   "cell_type": "markdown",
   "metadata": {},
   "source": [
    "**Example for try except :**If user enters a float number instead of integer in below program we will face with this error be \n",
    "\n",
    "---------------------------------------------------------------------------\n",
    "ValueError                                Traceback (most recent call last)\n",
    "<ipython-input-8-98d13ea84014> in <module>\n",
    "----> 1 n = int(input(\"Please enter a number : \"))\n",
    "    \n",
    "      2 for i in range(2,n):\n",
    "    \n",
    "      3     if n%i == 0:\n",
    "    \n",
    "      4         print(str(n) + \"is not prime number.\")\n",
    "    \n",
    "      5     else :\n",
    "    \n",
    "\n",
    "ValueError: invalid literal for int() with base 10: '20.5'"
   ]
  },
  {
   "cell_type": "markdown",
   "metadata": {},
   "source": [
    "* If this error happens, a message should be sent to the user instead of $((ValueError))$ to know what to do So we use $((try  except))$ To display the desired message"
   ]
  },
  {
   "cell_type": "code",
   "execution_count": 8,
   "metadata": {},
   "outputs": [
    {
     "name": "stdout",
     "output_type": "stream",
     "text": [
      "Please enter a number : 20.5\n"
     ]
    },
    {
     "ename": "ValueError",
     "evalue": "invalid literal for int() with base 10: '20.5'",
     "output_type": "error",
     "traceback": [
      "\u001b[1;31m---------------------------------------------------------------------------\u001b[0m",
      "\u001b[1;31mValueError\u001b[0m                                Traceback (most recent call last)",
      "\u001b[1;32m<ipython-input-8-98d13ea84014>\u001b[0m in \u001b[0;36m<module>\u001b[1;34m\u001b[0m\n\u001b[1;32m----> 1\u001b[1;33m \u001b[0mn\u001b[0m \u001b[1;33m=\u001b[0m \u001b[0mint\u001b[0m\u001b[1;33m(\u001b[0m\u001b[0minput\u001b[0m\u001b[1;33m(\u001b[0m\u001b[1;34m\"Please enter a number : \"\u001b[0m\u001b[1;33m)\u001b[0m\u001b[1;33m)\u001b[0m\u001b[1;33m\u001b[0m\u001b[1;33m\u001b[0m\u001b[0m\n\u001b[0m\u001b[0;32m      2\u001b[0m \u001b[1;32mfor\u001b[0m \u001b[0mi\u001b[0m \u001b[1;32min\u001b[0m \u001b[0mrange\u001b[0m\u001b[1;33m(\u001b[0m\u001b[1;36m2\u001b[0m\u001b[1;33m,\u001b[0m\u001b[0mn\u001b[0m\u001b[1;33m)\u001b[0m\u001b[1;33m:\u001b[0m\u001b[1;33m\u001b[0m\u001b[1;33m\u001b[0m\u001b[0m\n\u001b[0;32m      3\u001b[0m     \u001b[1;32mif\u001b[0m \u001b[0mn\u001b[0m\u001b[1;33m%\u001b[0m\u001b[0mi\u001b[0m \u001b[1;33m==\u001b[0m \u001b[1;36m0\u001b[0m\u001b[1;33m:\u001b[0m\u001b[1;33m\u001b[0m\u001b[1;33m\u001b[0m\u001b[0m\n\u001b[0;32m      4\u001b[0m         \u001b[0mprint\u001b[0m\u001b[1;33m(\u001b[0m\u001b[0mstr\u001b[0m\u001b[1;33m(\u001b[0m\u001b[0mn\u001b[0m\u001b[1;33m)\u001b[0m \u001b[1;33m+\u001b[0m \u001b[1;34m\"is not prime number.\"\u001b[0m\u001b[1;33m)\u001b[0m\u001b[1;33m\u001b[0m\u001b[1;33m\u001b[0m\u001b[0m\n\u001b[0;32m      5\u001b[0m     \u001b[1;32melse\u001b[0m \u001b[1;33m:\u001b[0m\u001b[1;33m\u001b[0m\u001b[1;33m\u001b[0m\u001b[0m\n",
      "\u001b[1;31mValueError\u001b[0m: invalid literal for int() with base 10: '20.5'"
     ]
    }
   ],
   "source": [
    "n = int(input(\"Please enter a number : \"))\n",
    "\n",
    "if n == 2:\n",
    "    print(str(n) + \" is prime number.\")\n",
    "elif n == 0 or n == 1:\n",
    "    print(str(n) + \" is not prime number.\")\n",
    "    \n",
    "for i in range(2,n):\n",
    "    if n%i == 0:\n",
    "        print(str(n) + \"is not prime number.\")\n",
    "    else :\n",
    "        print(str(n) + \"is prime number.\")\n",
    "    "
   ]
  },
  {
   "cell_type": "markdown",
   "metadata": {},
   "source": [
    "**Modified form of above example**:"
   ]
  },
  {
   "cell_type": "code",
   "execution_count": 2,
   "metadata": {},
   "outputs": [
    {
     "name": "stdout",
     "output_type": "stream",
     "text": [
      "Please enter a number : 1\n",
      "1 is not prime number.\n"
     ]
    }
   ],
   "source": [
    "while True:\n",
    "    try:\n",
    "        n = int(input(\"Please enter a number : \"))\n",
    "        break\n",
    "    except ValueError:\n",
    "        print(\"Please enter an integer number please\")\n",
    "\n",
    "if n == 2:\n",
    "    print(str(n) + \" is prime number.\")\n",
    "elif n == 0 or n == 1:\n",
    "    print(str(n) + \" is not prime number.\")\n",
    "          \n",
    "for i in range(2,n):\n",
    "    if n%i == 0:\n",
    "        print(str(n) + \" is not prime number.\")\n",
    "        break\n",
    "    else :\n",
    "        print(str(n) + \" is prime number.\")"
   ]
  }
 ],
 "metadata": {
  "kernelspec": {
   "display_name": "Python 3",
   "language": "python",
   "name": "python3"
  },
  "language_info": {
   "codemirror_mode": {
    "name": "ipython",
    "version": 3
   },
   "file_extension": ".py",
   "mimetype": "text/x-python",
   "name": "python",
   "nbconvert_exporter": "python",
   "pygments_lexer": "ipython3",
   "version": "3.7.6"
  }
 },
 "nbformat": 4,
 "nbformat_minor": 4
}
